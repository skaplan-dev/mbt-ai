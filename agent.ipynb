{
 "cells": [
  {
   "cell_type": "code",
   "execution_count": 44,
   "id": "e443d625-8703-4853-94bf-734cc3c32da5",
   "metadata": {
    "tags": []
   },
   "outputs": [
    {
     "name": "stdout",
     "output_type": "stream",
     "text": [
      "\u001b[33mWARNING: You are using pip version 22.0.3; however, version 23.1.2 is available.\n",
      "You should consider upgrading via the '/Users/sethkaplan/Library/Caches/pypoetry/virtualenvs/mbt-ai-A_DyYh-Q-py3.9/bin/python -m pip install --upgrade pip' command.\u001b[0m\u001b[33m\n",
      "\u001b[0m"
     ]
    }
   ],
   "source": [
    "!pip -q install langchain openai pandas"
   ]
  },
  {
   "cell_type": "code",
   "execution_count": 45,
   "id": "0acd3478-e159-4f93-a4d0-07f384697af6",
   "metadata": {
    "tags": []
   },
   "outputs": [],
   "source": [
    "import os\n",
    "import pandas as pd"
   ]
  },
  {
   "cell_type": "code",
   "execution_count": 46,
   "id": "cc874d27-c6fd-4f7b-a3de-0b65b8b76bc8",
   "metadata": {
    "tags": []
   },
   "outputs": [
    {
     "data": {
      "text/html": [
       "<div>\n",
       "<style scoped>\n",
       "    .dataframe tbody tr th:only-of-type {\n",
       "        vertical-align: middle;\n",
       "    }\n",
       "\n",
       "    .dataframe tbody tr th {\n",
       "        vertical-align: top;\n",
       "    }\n",
       "\n",
       "    .dataframe thead th {\n",
       "        text-align: right;\n",
       "    }\n",
       "</style>\n",
       "<table border=\"1\" class=\"dataframe\">\n",
       "  <thead>\n",
       "    <tr style=\"text-align: right;\">\n",
       "      <th></th>\n",
       "      <th>service_date</th>\n",
       "      <th>25%_tt</th>\n",
       "      <th>50%_tt</th>\n",
       "      <th>75%_tt</th>\n",
       "      <th>count_tt</th>\n",
       "      <th>max_tt</th>\n",
       "      <th>mean_tt</th>\n",
       "      <th>min_tt</th>\n",
       "      <th>peak_tt</th>\n",
       "      <th>std_tt</th>\n",
       "      <th>...</th>\n",
       "      <th>max_dwell</th>\n",
       "      <th>mean_dwell</th>\n",
       "      <th>min_dwell</th>\n",
       "      <th>peak_dwell</th>\n",
       "      <th>std_dwell</th>\n",
       "      <th>10%_dwell</th>\n",
       "      <th>90%_dwell</th>\n",
       "      <th>color_dwell</th>\n",
       "      <th>fr_id</th>\n",
       "      <th>to_id</th>\n",
       "    </tr>\n",
       "  </thead>\n",
       "  <tbody>\n",
       "    <tr>\n",
       "      <th>0</th>\n",
       "      <td>2016-05-03</td>\n",
       "      <td>15.0</td>\n",
       "      <td>17.0</td>\n",
       "      <td>19.0</td>\n",
       "      <td>76.0</td>\n",
       "      <td>25.0</td>\n",
       "      <td>14.223684</td>\n",
       "      <td>0.0</td>\n",
       "      <td>all</td>\n",
       "      <td>7.871666</td>\n",
       "      <td>...</td>\n",
       "      <td>400.0</td>\n",
       "      <td>224.816327</td>\n",
       "      <td>34.0</td>\n",
       "      <td>all</td>\n",
       "      <td>115.206235</td>\n",
       "      <td>NaN</td>\n",
       "      <td>NaN</td>\n",
       "      <td>Blue</td>\n",
       "      <td>Bowdoin</td>\n",
       "      <td>Government Center</td>\n",
       "    </tr>\n",
       "    <tr>\n",
       "      <th>1</th>\n",
       "      <td>2016-05-04</td>\n",
       "      <td>16.0</td>\n",
       "      <td>18.0</td>\n",
       "      <td>19.0</td>\n",
       "      <td>173.0</td>\n",
       "      <td>32.0</td>\n",
       "      <td>15.063584</td>\n",
       "      <td>0.0</td>\n",
       "      <td>all</td>\n",
       "      <td>7.936999</td>\n",
       "      <td>...</td>\n",
       "      <td>560.0</td>\n",
       "      <td>210.859649</td>\n",
       "      <td>19.0</td>\n",
       "      <td>all</td>\n",
       "      <td>111.778672</td>\n",
       "      <td>NaN</td>\n",
       "      <td>NaN</td>\n",
       "      <td>Blue</td>\n",
       "      <td>Bowdoin</td>\n",
       "      <td>Government Center</td>\n",
       "    </tr>\n",
       "    <tr>\n",
       "      <th>2</th>\n",
       "      <td>2016-05-05</td>\n",
       "      <td>16.0</td>\n",
       "      <td>18.0</td>\n",
       "      <td>21.0</td>\n",
       "      <td>168.0</td>\n",
       "      <td>36.0</td>\n",
       "      <td>16.053571</td>\n",
       "      <td>0.0</td>\n",
       "      <td>all</td>\n",
       "      <td>8.488268</td>\n",
       "      <td>...</td>\n",
       "      <td>479.0</td>\n",
       "      <td>202.301887</td>\n",
       "      <td>41.0</td>\n",
       "      <td>all</td>\n",
       "      <td>95.699132</td>\n",
       "      <td>NaN</td>\n",
       "      <td>NaN</td>\n",
       "      <td>Blue</td>\n",
       "      <td>Bowdoin</td>\n",
       "      <td>Government Center</td>\n",
       "    </tr>\n",
       "    <tr>\n",
       "      <th>3</th>\n",
       "      <td>2016-05-06</td>\n",
       "      <td>16.0</td>\n",
       "      <td>18.0</td>\n",
       "      <td>20.0</td>\n",
       "      <td>162.0</td>\n",
       "      <td>33.0</td>\n",
       "      <td>16.030864</td>\n",
       "      <td>0.0</td>\n",
       "      <td>all</td>\n",
       "      <td>7.919676</td>\n",
       "      <td>...</td>\n",
       "      <td>543.0</td>\n",
       "      <td>195.962121</td>\n",
       "      <td>24.0</td>\n",
       "      <td>all</td>\n",
       "      <td>113.392614</td>\n",
       "      <td>NaN</td>\n",
       "      <td>NaN</td>\n",
       "      <td>Blue</td>\n",
       "      <td>Bowdoin</td>\n",
       "      <td>Government Center</td>\n",
       "    </tr>\n",
       "    <tr>\n",
       "      <th>4</th>\n",
       "      <td>2016-05-07</td>\n",
       "      <td>17.0</td>\n",
       "      <td>18.0</td>\n",
       "      <td>21.0</td>\n",
       "      <td>126.0</td>\n",
       "      <td>34.0</td>\n",
       "      <td>17.587302</td>\n",
       "      <td>0.0</td>\n",
       "      <td>all</td>\n",
       "      <td>6.526223</td>\n",
       "      <td>...</td>\n",
       "      <td>793.0</td>\n",
       "      <td>286.873950</td>\n",
       "      <td>37.0</td>\n",
       "      <td>all</td>\n",
       "      <td>99.569203</td>\n",
       "      <td>NaN</td>\n",
       "      <td>NaN</td>\n",
       "      <td>Blue</td>\n",
       "      <td>Bowdoin</td>\n",
       "      <td>Government Center</td>\n",
       "    </tr>\n",
       "  </tbody>\n",
       "</table>\n",
       "<p>5 rows × 29 columns</p>\n",
       "</div>"
      ],
      "text/plain": [
       "  service_date  25%_tt  50%_tt  75%_tt  count_tt  max_tt    mean_tt  min_tt   \n",
       "0   2016-05-03    15.0    17.0    19.0      76.0    25.0  14.223684     0.0  \\\n",
       "1   2016-05-04    16.0    18.0    19.0     173.0    32.0  15.063584     0.0   \n",
       "2   2016-05-05    16.0    18.0    21.0     168.0    36.0  16.053571     0.0   \n",
       "3   2016-05-06    16.0    18.0    20.0     162.0    33.0  16.030864     0.0   \n",
       "4   2016-05-07    17.0    18.0    21.0     126.0    34.0  17.587302     0.0   \n",
       "\n",
       "  peak_tt    std_tt  ...  max_dwell  mean_dwell min_dwell peak_dwell   \n",
       "0     all  7.871666  ...      400.0  224.816327      34.0        all  \\\n",
       "1     all  7.936999  ...      560.0  210.859649      19.0        all   \n",
       "2     all  8.488268  ...      479.0  202.301887      41.0        all   \n",
       "3     all  7.919676  ...      543.0  195.962121      24.0        all   \n",
       "4     all  6.526223  ...      793.0  286.873950      37.0        all   \n",
       "\n",
       "    std_dwell  10%_dwell  90%_dwell  color_dwell    fr_id              to_id  \n",
       "0  115.206235        NaN        NaN         Blue  Bowdoin  Government Center  \n",
       "1  111.778672        NaN        NaN         Blue  Bowdoin  Government Center  \n",
       "2   95.699132        NaN        NaN         Blue  Bowdoin  Government Center  \n",
       "3  113.392614        NaN        NaN         Blue  Bowdoin  Government Center  \n",
       "4   99.569203        NaN        NaN         Blue  Bowdoin  Government Center  \n",
       "\n",
       "[5 rows x 29 columns]"
      ]
     },
     "execution_count": 46,
     "metadata": {},
     "output_type": "execute_result"
    }
   ],
   "source": [
    "df = pd.read_csv('./data/all_stop_pairs_data.csv')\n",
    "df.head()"
   ]
  },
  {
   "cell_type": "code",
   "execution_count": 47,
   "id": "14032c55-2033-4801-8fe3-b6f07f3a8e47",
   "metadata": {
    "tags": []
   },
   "outputs": [
    {
     "data": {
      "text/plain": [
       "Index(['service_date', '25%_tt', '50%_tt', '75%_tt', 'count_tt', 'max_tt',\n",
       "       'mean_tt', 'min_tt', 'peak_tt', 'std_tt', '10%_tt', '90%_tt',\n",
       "       'color_tt', 'fr', 'to', '25%_dwell', '50%_dwell', '75%_dwell',\n",
       "       'count_dwell', 'max_dwell', 'mean_dwell', 'min_dwell', 'peak_dwell',\n",
       "       'std_dwell', '10%_dwell', '90%_dwell', 'color_dwell', 'fr_id', 'to_id'],\n",
       "      dtype='object')"
      ]
     },
     "execution_count": 47,
     "metadata": {},
     "output_type": "execute_result"
    }
   ],
   "source": [
    "df.columns"
   ]
  },
  {
   "cell_type": "code",
   "execution_count": 48,
   "id": "0c3a5b28-5028-4203-a7ab-f1cf4df9554e",
   "metadata": {
    "tags": []
   },
   "outputs": [
    {
     "data": {
      "text/plain": [
       "(265467, 29)"
      ]
     },
     "execution_count": 48,
     "metadata": {},
     "output_type": "execute_result"
    }
   ],
   "source": [
    "df.shape"
   ]
  },
  {
   "cell_type": "markdown",
   "id": "869f9798-ed28-4112-bf9b-05b802b31b73",
   "metadata": {},
   "source": [
    "## Activate Agent"
   ]
  },
  {
   "cell_type": "code",
   "execution_count": 49,
   "id": "a976b4b5-12a9-451c-9570-cd8d056b0793",
   "metadata": {},
   "outputs": [],
   "source": [
    "from langchain.agents import create_csv_agent\n",
    "from langchain.chat_models import ChatOpenAI"
   ]
  },
  {
   "cell_type": "code",
   "execution_count": 50,
   "id": "9dfac0b7-1861-4f5c-a716-51da694d81ed",
   "metadata": {},
   "outputs": [],
   "source": [
    "agent = create_csv_agent(ChatOpenAI(temperature=0, model_name=\"gpt-3.5-turbo\"), \n",
    "                         './data/all_stop_pairs_data.csv', \n",
    "                         verbose=True)"
   ]
  },
  {
   "cell_type": "markdown",
   "id": "4ec4d993-26fd-45a1-8751-e10818b7220a",
   "metadata": {},
   "source": [
    "# Launch the Agent"
   ]
  },
  {
   "cell_type": "code",
   "execution_count": 51,
   "id": "4699248d-144e-495f-87a3-f908d45f0f2b",
   "metadata": {},
   "outputs": [
    {
     "data": {
      "text/plain": [
       "AgentExecutor(memory=None, callbacks=None, callback_manager=None, verbose=True, agent=ZeroShotAgent(llm_chain=LLMChain(memory=None, callbacks=None, callback_manager=None, verbose=False, prompt=PromptTemplate(input_variables=['agent_scratchpad', 'input'], output_parser=None, partial_variables={'df': '|    | service_date   |   25%_tt |   50%_tt |   75%_tt |   count_tt |   max_tt |   mean_tt |   min_tt | peak_tt   |   std_tt |   10%_tt |   90%_tt | color_tt   | fr      | to                |   25%_dwell |   50%_dwell |   75%_dwell |   count_dwell |   max_dwell |   mean_dwell |   min_dwell | peak_dwell   |   std_dwell |   10%_dwell |   90%_dwell | color_dwell   | fr_id   | to_id             |\\n|---:|:---------------|---------:|---------:|---------:|-----------:|---------:|----------:|---------:|:----------|---------:|---------:|---------:|:-----------|:--------|:------------------|------------:|------------:|------------:|--------------:|------------:|-------------:|------------:|:-------------|------------:|------------:|------------:|:--------------|:--------|:------------------|\\n|  0 | 2016-05-03     |       15 |       17 |       19 |         76 |       25 |   14.2237 |        0 | all       |  7.87167 |      nan |      nan | Blue       | Bowdoin | Government Center |      135    |       241   |      323    |            49 |         400 |      224.816 |          34 | all          |    115.206  |         nan |         nan | Blue          | Bowdoin | Government Center |\\n|  1 | 2016-05-04     |       16 |       18 |       19 |        173 |       32 |   15.0636 |        0 | all       |  7.937   |      nan |      nan | Blue       | Bowdoin | Government Center |       93.25 |       227.5 |      294.75 |           114 |         560 |      210.86  |          19 | all          |    111.779  |         nan |         nan | Blue          | Bowdoin | Government Center |\\n|  2 | 2016-05-05     |       16 |       18 |       21 |        168 |       36 |   16.0536 |        0 | all       |  8.48827 |      nan |      nan | Blue       | Bowdoin | Government Center |      128.5  |       226.5 |      256    |           106 |         479 |      202.302 |          41 | all          |     95.6991 |         nan |         nan | Blue          | Bowdoin | Government Center |\\n|  3 | 2016-05-06     |       16 |       18 |       20 |        162 |       33 |   16.0309 |        0 | all       |  7.91968 |      nan |      nan | Blue       | Bowdoin | Government Center |       72.5  |       224.5 |      280    |           132 |         543 |      195.962 |          24 | all          |    113.393  |         nan |         nan | Blue          | Bowdoin | Government Center |\\n|  4 | 2016-05-07     |       17 |       18 |       21 |        126 |       34 |   17.5873 |        0 | all       |  6.52622 |      nan |      nan | Blue       | Bowdoin | Government Center |      248.5  |       300   |      334    |           119 |         793 |      286.874 |          37 | all          |     99.5692 |         nan |         nan | Blue          | Bowdoin | Government Center |'}, template='\\nYou are working with a pandas dataframe in Python. The name of the dataframe is `df`.\\nYou should use the tools below to answer the question posed of you:\\n\\npython_repl_ast: A Python shell. Use this to execute python commands. Input should be a valid python command. When using this tool, sometimes output is abbreviated - make sure it does not look abbreviated before using it in your answer.\\n\\nUse the following format:\\n\\nQuestion: the input question you must answer\\nThought: you should always think about what to do\\nAction: the action to take, should be one of [python_repl_ast]\\nAction Input: the input to the action\\nObservation: the result of the action\\n... (this Thought/Action/Action Input/Observation can repeat N times)\\nThought: I now know the final answer\\nFinal Answer: the final answer to the original input question\\n\\n\\nThis is the result of `print(df.head())`:\\n{df}\\n\\nBegin!\\nQuestion: {input}\\n{agent_scratchpad}', template_format='f-string', validate_template=True), llm=ChatOpenAI(verbose=False, callbacks=None, callback_manager=None, client=<class 'openai.api_resources.chat_completion.ChatCompletion'>, model_name='gpt-3.5-turbo', temperature=0.0, model_kwargs={}, openai_api_key=None, openai_organization=None, request_timeout=None, max_retries=6, streaming=False, n=1, max_tokens=None), output_key='text'), output_parser=MRKLOutputParser(), allowed_tools=['python_repl_ast']), tools=[PythonAstREPLTool(name='python_repl_ast', description='A Python shell. Use this to execute python commands. Input should be a valid python command. When using this tool, sometimes output is abbreviated - make sure it does not look abbreviated before using it in your answer.', args_schema=None, return_direct=False, verbose=False, callbacks=None, callback_manager=None, globals={}, locals={'df':        service_date  25%_tt  50%_tt  75%_tt  count_tt  max_tt     mean_tt   \n",
       "0        2016-05-03   15.00    17.0    19.0      76.0    25.0   14.223684  \\\n",
       "1        2016-05-04   16.00    18.0    19.0     173.0    32.0   15.063584   \n",
       "2        2016-05-05   16.00    18.0    21.0     168.0    36.0   16.053571   \n",
       "3        2016-05-06   16.00    18.0    20.0     162.0    33.0   16.030864   \n",
       "4        2016-05-07   17.00    18.0    21.0     126.0    34.0   17.587302   \n",
       "...             ...     ...     ...     ...       ...     ...         ...   \n",
       "265462   2023-05-01  365.00   385.0   402.0      61.0   422.0  381.885246   \n",
       "265463   2023-05-02  363.00   374.0   404.0      63.0   422.0  383.222222   \n",
       "265464   2023-05-03  373.00   400.0   411.0      63.0   453.0  394.333333   \n",
       "265465   2023-05-04  387.50   409.0   412.0      62.0   476.0  400.080645   \n",
       "265466   2023-05-05  375.25   403.0   413.0      56.0   436.0  393.821429   \n",
       "\n",
       "        min_tt peak_tt     std_tt  ...  max_dwell   mean_dwell min_dwell   \n",
       "0          0.0     all   7.871666  ...      400.0   224.816327      34.0  \\\n",
       "1          0.0     all   7.936999  ...      560.0   210.859649      19.0   \n",
       "2          0.0     all   8.488268  ...      479.0   202.301887      41.0   \n",
       "3          0.0     all   7.919676  ...      543.0   195.962121      24.0   \n",
       "4          0.0     all   6.526223  ...      793.0   286.873950      37.0   \n",
       "...        ...     ...        ...  ...        ...          ...       ...   \n",
       "265462   339.0     all  23.417171  ...     2175.0  1011.606557      33.0   \n",
       "265463   347.0     all  23.771695  ...     2074.0  1017.403226       0.0   \n",
       "265464   340.0     all  23.057554  ...     2180.0  1291.934426      37.0   \n",
       "265465   338.0     all  22.966524  ...     2646.0  1246.786885      94.0   \n",
       "265466   342.0     all  24.717047  ...     6865.0  1443.490566       8.0   \n",
       "\n",
       "       peak_dwell    std_dwell  10%_dwell  90%_dwell  color_dwell      fr_id   \n",
       "0             all   115.206235        NaN        NaN         Blue    Bowdoin  \\\n",
       "1             all   111.778672        NaN        NaN         Blue    Bowdoin   \n",
       "2             all    95.699132        NaN        NaN         Blue    Bowdoin   \n",
       "3             all   113.392614        NaN        NaN         Blue    Bowdoin   \n",
       "4             all    99.569203        NaN        NaN         Blue    Bowdoin   \n",
       "...           ...          ...        ...        ...          ...        ...   \n",
       "265462        all   423.795778      512.0     1525.0          Red  Braintree   \n",
       "265463        all   497.759608      350.4     1608.4          Red  Braintree   \n",
       "265464        all   507.414658      529.0     1954.0          Red  Braintree   \n",
       "265465        all   658.355903      301.0     1951.0          Red  Braintree   \n",
       "265466        all  1116.806424      486.0     2099.0          Red  Braintree   \n",
       "\n",
       "                    to_id  \n",
       "0       Government Center  \n",
       "1       Government Center  \n",
       "2       Government Center  \n",
       "3       Government Center  \n",
       "4       Government Center  \n",
       "...                   ...  \n",
       "265462       Quincy Adams  \n",
       "265463       Quincy Adams  \n",
       "265464       Quincy Adams  \n",
       "265465       Quincy Adams  \n",
       "265466       Quincy Adams  \n",
       "\n",
       "[265467 rows x 29 columns]}, sanitize_input=True)], return_intermediate_steps=False, max_iterations=15, max_execution_time=None, early_stopping_method='force', handle_parsing_errors=False)"
      ]
     },
     "execution_count": 51,
     "metadata": {},
     "output_type": "execute_result"
    }
   ],
   "source": [
    "agent"
   ]
  },
  {
   "cell_type": "code",
   "execution_count": 52,
   "id": "808a61c1-855b-4bc8-8135-0dc00a01ab5b",
   "metadata": {},
   "outputs": [
    {
     "data": {
      "text/plain": [
       "'\\nYou are working with a pandas dataframe in Python. The name of the dataframe is `df`.\\nYou should use the tools below to answer the question posed of you:\\n\\npython_repl_ast: A Python shell. Use this to execute python commands. Input should be a valid python command. When using this tool, sometimes output is abbreviated - make sure it does not look abbreviated before using it in your answer.\\n\\nUse the following format:\\n\\nQuestion: the input question you must answer\\nThought: you should always think about what to do\\nAction: the action to take, should be one of [python_repl_ast]\\nAction Input: the input to the action\\nObservation: the result of the action\\n... (this Thought/Action/Action Input/Observation can repeat N times)\\nThought: I now know the final answer\\nFinal Answer: the final answer to the original input question\\n\\n\\nThis is the result of `print(df.head())`:\\n{df}\\n\\nBegin!\\nQuestion: {input}\\n{agent_scratchpad}'"
      ]
     },
     "execution_count": 52,
     "metadata": {},
     "output_type": "execute_result"
    }
   ],
   "source": [
    "agent.agent.llm_chain.prompt.template"
   ]
  },
  {
   "cell_type": "markdown",
   "id": "d2962ffa-b075-449d-9258-fca5c22fc570",
   "metadata": {},
   "source": [
    "## Ask Questions to the Agent"
   ]
  },
  {
   "cell_type": "code",
   "execution_count": 53,
   "id": "0b324860-3a82-4caf-bc79-cd81bd9bbc87",
   "metadata": {
    "tags": []
   },
   "outputs": [
    {
     "name": "stdout",
     "output_type": "stream",
     "text": [
      "\n",
      "\n",
      "\u001b[1m> Entering new AgentExecutor chain...\u001b[0m\n",
      "\u001b[32;1m\u001b[1;3mThought: We need to filter the dataframe to only include data from 2023 and between Alewife and Davis. Then we can group by week and calculate the mean travel time.\n",
      "Action: python_repl_ast\n",
      "Action Input:\n",
      "```\n",
      "# filter dataframe to only include data from 2023 and between Alewife and Davis\n",
      "filtered_df = df[(df['fr'] == 'Alewife') & (df['to'] == 'Davis') & (df['service_date'].str.startswith('2023'))]\n",
      "\n",
      "# group by week and calculate mean travel time\n",
      "filtered_df.groupby(filtered_df['service_date'].dt.week)['mean_tt'].mean()\n",
      "```\u001b[0m\n",
      "Observation: \u001b[36;1m\u001b[1;3mCan only use .dt accessor with datetimelike values\u001b[0m\n",
      "Thought:\u001b[32;1m\u001b[1;3mWe need to convert the 'service_date' column to a datetime format before using the .dt accessor.\n",
      "Action: python_repl_ast\n",
      "Action Input:\n",
      "```\n",
      "# convert 'service_date' column to datetime format\n",
      "df['service_date'] = pd.to_datetime(df['service_date'])\n",
      "\n",
      "# filter dataframe to only include data from 2023 and between Alewife and Davis\n",
      "filtered_df = df[(df['fr'] == 'Alewife') & (df['to'] == 'Davis') & (df['service_date'].dt.year == 2023)]\n",
      "\n",
      "# group by week and calculate mean travel time\n",
      "filtered_df.groupby(filtered_df['service_date'].dt.week)['mean_tt'].mean()\n",
      "```\u001b[0m\n",
      "Observation: \u001b[36;1m\u001b[1;3mNameError: name 'pd' is not defined\u001b[0m\n",
      "Thought:\u001b[32;1m\u001b[1;3mWe need to import the pandas library before using it in our code.\n",
      "Action: python_repl_ast\n",
      "Action Input:\n",
      "```\n",
      "import pandas as pd\n",
      "\n",
      "# convert 'service_date' column to datetime format\n",
      "df['service_date'] = pd.to_datetime(df['service_date'])\n",
      "\n",
      "# filter dataframe to only include data from 2023 and between Alewife and Davis\n",
      "filtered_df = df[(df['fr'] == 'Alewife') & (df['to'] == 'Davis') & (df['service_date'].dt.year == 2023)]\n",
      "\n",
      "# group by week and calculate mean travel time\n",
      "filtered_df.groupby(filtered_df['service_date'].dt.week)['mean_tt'].mean()\n",
      "```\u001b[0m\n",
      "Observation: \u001b[36;1m\u001b[1;3m'DatetimeProperties' object has no attribute 'week'\u001b[0m\n",
      "Thought:\u001b[32;1m\u001b[1;3mWe need to use the .dt.weekofyear accessor instead of .dt.week to get the week number.\n",
      "Action: python_repl_ast\n",
      "Action Input:\n",
      "```\n",
      "import pandas as pd\n",
      "\n",
      "# convert 'service_date' column to datetime format\n",
      "df['service_date'] = pd.to_datetime(df['service_date'])\n",
      "\n",
      "# filter dataframe to only include data from 2023 and between Alewife and Davis\n",
      "filtered_df = df[(df['fr'] == 'Alewife') & (df['to'] == 'Davis') & (df['service_date'].dt.year == 2023)]\n",
      "\n",
      "# group by week and calculate mean travel time\n",
      "filtered_df.groupby(filtered_df['service_date'].dt.weekofyear)['mean_tt'].mean()\n",
      "```\u001b[0m\n",
      "Observation: \u001b[36;1m\u001b[1;3m'DatetimeProperties' object has no attribute 'weekofyear'\u001b[0m\n",
      "Thought:\u001b[32;1m\u001b[1;3mWe need to use the .dt.isocalendar().week accessor instead of .dt.weekofyear to get the ISO week number.\n",
      "Action: python_repl_ast\n",
      "Action Input:\n",
      "```\n",
      "import pandas as pd\n",
      "\n",
      "# convert 'service_date' column to datetime format\n",
      "df['service_date'] = pd.to_datetime(df['service_date'])\n",
      "\n",
      "# filter dataframe to only include data from 2023 and between Alewife and Davis\n",
      "filtered_df = df[(df['fr'] == 'Alewife') & (df['to'] == 'Davis') & (df['service_date'].dt.year == 2023)]\n",
      "\n",
      "# group by week and calculate mean travel time\n",
      "filtered_df.groupby(filtered_df['service_date'].dt.isocalendar().week)['mean_tt'].mean()\n",
      "```\u001b[0m\n",
      "Observation: \u001b[36;1m\u001b[1;3mweek\n",
      "1     115.891378\n",
      "2     138.028435\n",
      "3     122.872877\n",
      "4     119.082279\n",
      "5     118.692943\n",
      "6     117.302618\n",
      "7     129.345403\n",
      "8     123.985815\n",
      "9     145.016815\n",
      "10    159.639558\n",
      "11    175.928095\n",
      "12    172.685123\n",
      "13    173.311822\n",
      "14    172.297160\n",
      "15    239.515498\n",
      "16    274.183328\n",
      "17    273.661146\n",
      "18    276.141268\n",
      "52    139.933824\n",
      "Name: mean_tt, dtype: float64\u001b[0m\n",
      "Thought:\u001b[32;1m\u001b[1;3mThe average travel times between Alewife and Davis per week in 2023 are shown above.\n",
      "Final Answer: The average travel times between Alewife and Davis per week in 2023 are shown above.\u001b[0m\n",
      "\n",
      "\u001b[1m> Finished chain.\u001b[0m\n"
     ]
    },
    {
     "data": {
      "text/plain": [
       "'The average travel times between Alewife and Davis per week in 2023 are shown above.'"
      ]
     },
     "execution_count": 53,
     "metadata": {},
     "output_type": "execute_result"
    }
   ],
   "source": [
    "agent.run(\"Find the average travel times between Alewife and Davis per week in 2023\")"
   ]
  },
  {
   "cell_type": "code",
   "execution_count": 54,
   "id": "7b40cd03-87cd-447b-98dc-2ea9faef2b2c",
   "metadata": {
    "tags": []
   },
   "outputs": [
    {
     "name": "stdout",
     "output_type": "stream",
     "text": [
      "\n",
      "\n",
      "\u001b[1m> Entering new AgentExecutor chain...\u001b[0m\n",
      "\u001b[32;1m\u001b[1;3mThought: I should look at the column names to see what information is available in the dataset.\n",
      "Action: python_repl_ast\n",
      "Action Input: df.columns\u001b[0m\n",
      "Observation: \u001b[36;1m\u001b[1;3mIndex(['service_date', '25%_tt', '50%_tt', '75%_tt', 'count_tt', 'max_tt',\n",
      "       'mean_tt', 'min_tt', 'peak_tt', 'std_tt', '10%_tt', '90%_tt',\n",
      "       'color_tt', 'fr', 'to', '25%_dwell', '50%_dwell', '75%_dwell',\n",
      "       'count_dwell', 'max_dwell', 'mean_dwell', 'min_dwell', 'peak_dwell',\n",
      "       'std_dwell', '10%_dwell', '90%_dwell', 'color_dwell', 'fr_id', 'to_id'],\n",
      "      dtype='object')\u001b[0m\n",
      "Thought:"
     ]
    },
    {
     "ename": "OutputParserException",
     "evalue": "Could not parse LLM output: `There are columns related to travel time, dwell time, and station information.`",
     "output_type": "error",
     "traceback": [
      "\u001b[0;31m---------------------------------------------------------------------------\u001b[0m",
      "\u001b[0;31mOutputParserException\u001b[0m                     Traceback (most recent call last)",
      "Cell \u001b[0;32mIn[54], line 1\u001b[0m\n\u001b[0;32m----> 1\u001b[0m \u001b[43magent\u001b[49m\u001b[38;5;241;43m.\u001b[39;49m\u001b[43mrun\u001b[49m\u001b[43m(\u001b[49m\u001b[38;5;124;43m\"\u001b[39;49m\u001b[38;5;124;43mWhat do you know about the dataset going by the column names?\u001b[39;49m\u001b[38;5;124;43m\"\u001b[39;49m\u001b[43m)\u001b[49m\n",
      "File \u001b[0;32m~/Library/Caches/pypoetry/virtualenvs/mbt-ai-A_DyYh-Q-py3.9/lib/python3.9/site-packages/langchain/chains/base.py:236\u001b[0m, in \u001b[0;36mChain.run\u001b[0;34m(self, callbacks, *args, **kwargs)\u001b[0m\n\u001b[1;32m    234\u001b[0m     \u001b[38;5;28;01mif\u001b[39;00m \u001b[38;5;28mlen\u001b[39m(args) \u001b[38;5;241m!=\u001b[39m \u001b[38;5;241m1\u001b[39m:\n\u001b[1;32m    235\u001b[0m         \u001b[38;5;28;01mraise\u001b[39;00m \u001b[38;5;167;01mValueError\u001b[39;00m(\u001b[38;5;124m\"\u001b[39m\u001b[38;5;124m`run` supports only one positional argument.\u001b[39m\u001b[38;5;124m\"\u001b[39m)\n\u001b[0;32m--> 236\u001b[0m     \u001b[38;5;28;01mreturn\u001b[39;00m \u001b[38;5;28;43mself\u001b[39;49m\u001b[43m(\u001b[49m\u001b[43margs\u001b[49m\u001b[43m[\u001b[49m\u001b[38;5;241;43m0\u001b[39;49m\u001b[43m]\u001b[49m\u001b[43m,\u001b[49m\u001b[43m \u001b[49m\u001b[43mcallbacks\u001b[49m\u001b[38;5;241;43m=\u001b[39;49m\u001b[43mcallbacks\u001b[49m\u001b[43m)\u001b[49m[\u001b[38;5;28mself\u001b[39m\u001b[38;5;241m.\u001b[39moutput_keys[\u001b[38;5;241m0\u001b[39m]]\n\u001b[1;32m    238\u001b[0m \u001b[38;5;28;01mif\u001b[39;00m kwargs \u001b[38;5;129;01mand\u001b[39;00m \u001b[38;5;129;01mnot\u001b[39;00m args:\n\u001b[1;32m    239\u001b[0m     \u001b[38;5;28;01mreturn\u001b[39;00m \u001b[38;5;28mself\u001b[39m(kwargs, callbacks\u001b[38;5;241m=\u001b[39mcallbacks)[\u001b[38;5;28mself\u001b[39m\u001b[38;5;241m.\u001b[39moutput_keys[\u001b[38;5;241m0\u001b[39m]]\n",
      "File \u001b[0;32m~/Library/Caches/pypoetry/virtualenvs/mbt-ai-A_DyYh-Q-py3.9/lib/python3.9/site-packages/langchain/chains/base.py:140\u001b[0m, in \u001b[0;36mChain.__call__\u001b[0;34m(self, inputs, return_only_outputs, callbacks)\u001b[0m\n\u001b[1;32m    138\u001b[0m \u001b[38;5;28;01mexcept\u001b[39;00m (\u001b[38;5;167;01mKeyboardInterrupt\u001b[39;00m, \u001b[38;5;167;01mException\u001b[39;00m) \u001b[38;5;28;01mas\u001b[39;00m e:\n\u001b[1;32m    139\u001b[0m     run_manager\u001b[38;5;241m.\u001b[39mon_chain_error(e)\n\u001b[0;32m--> 140\u001b[0m     \u001b[38;5;28;01mraise\u001b[39;00m e\n\u001b[1;32m    141\u001b[0m run_manager\u001b[38;5;241m.\u001b[39mon_chain_end(outputs)\n\u001b[1;32m    142\u001b[0m \u001b[38;5;28;01mreturn\u001b[39;00m \u001b[38;5;28mself\u001b[39m\u001b[38;5;241m.\u001b[39mprep_outputs(inputs, outputs, return_only_outputs)\n",
      "File \u001b[0;32m~/Library/Caches/pypoetry/virtualenvs/mbt-ai-A_DyYh-Q-py3.9/lib/python3.9/site-packages/langchain/chains/base.py:134\u001b[0m, in \u001b[0;36mChain.__call__\u001b[0;34m(self, inputs, return_only_outputs, callbacks)\u001b[0m\n\u001b[1;32m    128\u001b[0m run_manager \u001b[38;5;241m=\u001b[39m callback_manager\u001b[38;5;241m.\u001b[39mon_chain_start(\n\u001b[1;32m    129\u001b[0m     {\u001b[38;5;124m\"\u001b[39m\u001b[38;5;124mname\u001b[39m\u001b[38;5;124m\"\u001b[39m: \u001b[38;5;28mself\u001b[39m\u001b[38;5;241m.\u001b[39m\u001b[38;5;18m__class__\u001b[39m\u001b[38;5;241m.\u001b[39m\u001b[38;5;18m__name__\u001b[39m},\n\u001b[1;32m    130\u001b[0m     inputs,\n\u001b[1;32m    131\u001b[0m )\n\u001b[1;32m    132\u001b[0m \u001b[38;5;28;01mtry\u001b[39;00m:\n\u001b[1;32m    133\u001b[0m     outputs \u001b[38;5;241m=\u001b[39m (\n\u001b[0;32m--> 134\u001b[0m         \u001b[38;5;28;43mself\u001b[39;49m\u001b[38;5;241;43m.\u001b[39;49m\u001b[43m_call\u001b[49m\u001b[43m(\u001b[49m\u001b[43minputs\u001b[49m\u001b[43m,\u001b[49m\u001b[43m \u001b[49m\u001b[43mrun_manager\u001b[49m\u001b[38;5;241;43m=\u001b[39;49m\u001b[43mrun_manager\u001b[49m\u001b[43m)\u001b[49m\n\u001b[1;32m    135\u001b[0m         \u001b[38;5;28;01mif\u001b[39;00m new_arg_supported\n\u001b[1;32m    136\u001b[0m         \u001b[38;5;28;01melse\u001b[39;00m \u001b[38;5;28mself\u001b[39m\u001b[38;5;241m.\u001b[39m_call(inputs)\n\u001b[1;32m    137\u001b[0m     )\n\u001b[1;32m    138\u001b[0m \u001b[38;5;28;01mexcept\u001b[39;00m (\u001b[38;5;167;01mKeyboardInterrupt\u001b[39;00m, \u001b[38;5;167;01mException\u001b[39;00m) \u001b[38;5;28;01mas\u001b[39;00m e:\n\u001b[1;32m    139\u001b[0m     run_manager\u001b[38;5;241m.\u001b[39mon_chain_error(e)\n",
      "File \u001b[0;32m~/Library/Caches/pypoetry/virtualenvs/mbt-ai-A_DyYh-Q-py3.9/lib/python3.9/site-packages/langchain/agents/agent.py:905\u001b[0m, in \u001b[0;36mAgentExecutor._call\u001b[0;34m(self, inputs, run_manager)\u001b[0m\n\u001b[1;32m    903\u001b[0m \u001b[38;5;66;03m# We now enter the agent loop (until it returns something).\u001b[39;00m\n\u001b[1;32m    904\u001b[0m \u001b[38;5;28;01mwhile\u001b[39;00m \u001b[38;5;28mself\u001b[39m\u001b[38;5;241m.\u001b[39m_should_continue(iterations, time_elapsed):\n\u001b[0;32m--> 905\u001b[0m     next_step_output \u001b[38;5;241m=\u001b[39m \u001b[38;5;28;43mself\u001b[39;49m\u001b[38;5;241;43m.\u001b[39;49m\u001b[43m_take_next_step\u001b[49m\u001b[43m(\u001b[49m\n\u001b[1;32m    906\u001b[0m \u001b[43m        \u001b[49m\u001b[43mname_to_tool_map\u001b[49m\u001b[43m,\u001b[49m\n\u001b[1;32m    907\u001b[0m \u001b[43m        \u001b[49m\u001b[43mcolor_mapping\u001b[49m\u001b[43m,\u001b[49m\n\u001b[1;32m    908\u001b[0m \u001b[43m        \u001b[49m\u001b[43minputs\u001b[49m\u001b[43m,\u001b[49m\n\u001b[1;32m    909\u001b[0m \u001b[43m        \u001b[49m\u001b[43mintermediate_steps\u001b[49m\u001b[43m,\u001b[49m\n\u001b[1;32m    910\u001b[0m \u001b[43m        \u001b[49m\u001b[43mrun_manager\u001b[49m\u001b[38;5;241;43m=\u001b[39;49m\u001b[43mrun_manager\u001b[49m\u001b[43m,\u001b[49m\n\u001b[1;32m    911\u001b[0m \u001b[43m    \u001b[49m\u001b[43m)\u001b[49m\n\u001b[1;32m    912\u001b[0m     \u001b[38;5;28;01mif\u001b[39;00m \u001b[38;5;28misinstance\u001b[39m(next_step_output, AgentFinish):\n\u001b[1;32m    913\u001b[0m         \u001b[38;5;28;01mreturn\u001b[39;00m \u001b[38;5;28mself\u001b[39m\u001b[38;5;241m.\u001b[39m_return(\n\u001b[1;32m    914\u001b[0m             next_step_output, intermediate_steps, run_manager\u001b[38;5;241m=\u001b[39mrun_manager\n\u001b[1;32m    915\u001b[0m         )\n",
      "File \u001b[0;32m~/Library/Caches/pypoetry/virtualenvs/mbt-ai-A_DyYh-Q-py3.9/lib/python3.9/site-packages/langchain/agents/agent.py:749\u001b[0m, in \u001b[0;36mAgentExecutor._take_next_step\u001b[0;34m(self, name_to_tool_map, color_mapping, inputs, intermediate_steps, run_manager)\u001b[0m\n\u001b[1;32m    747\u001b[0m \u001b[38;5;28;01mexcept\u001b[39;00m \u001b[38;5;167;01mException\u001b[39;00m \u001b[38;5;28;01mas\u001b[39;00m e:\n\u001b[1;32m    748\u001b[0m     \u001b[38;5;28;01mif\u001b[39;00m \u001b[38;5;129;01mnot\u001b[39;00m \u001b[38;5;28mself\u001b[39m\u001b[38;5;241m.\u001b[39mhandle_parsing_errors:\n\u001b[0;32m--> 749\u001b[0m         \u001b[38;5;28;01mraise\u001b[39;00m e\n\u001b[1;32m    750\u001b[0m     text \u001b[38;5;241m=\u001b[39m \u001b[38;5;28mstr\u001b[39m(e)\u001b[38;5;241m.\u001b[39msplit(\u001b[38;5;124m\"\u001b[39m\u001b[38;5;124m`\u001b[39m\u001b[38;5;124m\"\u001b[39m)[\u001b[38;5;241m1\u001b[39m]\n\u001b[1;32m    751\u001b[0m     observation \u001b[38;5;241m=\u001b[39m \u001b[38;5;124m\"\u001b[39m\u001b[38;5;124mInvalid or incomplete response\u001b[39m\u001b[38;5;124m\"\u001b[39m\n",
      "File \u001b[0;32m~/Library/Caches/pypoetry/virtualenvs/mbt-ai-A_DyYh-Q-py3.9/lib/python3.9/site-packages/langchain/agents/agent.py:742\u001b[0m, in \u001b[0;36mAgentExecutor._take_next_step\u001b[0;34m(self, name_to_tool_map, color_mapping, inputs, intermediate_steps, run_manager)\u001b[0m\n\u001b[1;32m    736\u001b[0m \u001b[38;5;250m\u001b[39m\u001b[38;5;124;03m\"\"\"Take a single step in the thought-action-observation loop.\u001b[39;00m\n\u001b[1;32m    737\u001b[0m \n\u001b[1;32m    738\u001b[0m \u001b[38;5;124;03mOverride this to take control of how the agent makes and acts on choices.\u001b[39;00m\n\u001b[1;32m    739\u001b[0m \u001b[38;5;124;03m\"\"\"\u001b[39;00m\n\u001b[1;32m    740\u001b[0m \u001b[38;5;28;01mtry\u001b[39;00m:\n\u001b[1;32m    741\u001b[0m     \u001b[38;5;66;03m# Call the LLM to see what to do.\u001b[39;00m\n\u001b[0;32m--> 742\u001b[0m     output \u001b[38;5;241m=\u001b[39m \u001b[38;5;28;43mself\u001b[39;49m\u001b[38;5;241;43m.\u001b[39;49m\u001b[43magent\u001b[49m\u001b[38;5;241;43m.\u001b[39;49m\u001b[43mplan\u001b[49m\u001b[43m(\u001b[49m\n\u001b[1;32m    743\u001b[0m \u001b[43m        \u001b[49m\u001b[43mintermediate_steps\u001b[49m\u001b[43m,\u001b[49m\n\u001b[1;32m    744\u001b[0m \u001b[43m        \u001b[49m\u001b[43mcallbacks\u001b[49m\u001b[38;5;241;43m=\u001b[39;49m\u001b[43mrun_manager\u001b[49m\u001b[38;5;241;43m.\u001b[39;49m\u001b[43mget_child\u001b[49m\u001b[43m(\u001b[49m\u001b[43m)\u001b[49m\u001b[43m \u001b[49m\u001b[38;5;28;43;01mif\u001b[39;49;00m\u001b[43m \u001b[49m\u001b[43mrun_manager\u001b[49m\u001b[43m \u001b[49m\u001b[38;5;28;43;01melse\u001b[39;49;00m\u001b[43m \u001b[49m\u001b[38;5;28;43;01mNone\u001b[39;49;00m\u001b[43m,\u001b[49m\n\u001b[1;32m    745\u001b[0m \u001b[43m        \u001b[49m\u001b[38;5;241;43m*\u001b[39;49m\u001b[38;5;241;43m*\u001b[39;49m\u001b[43minputs\u001b[49m\u001b[43m,\u001b[49m\n\u001b[1;32m    746\u001b[0m \u001b[43m    \u001b[49m\u001b[43m)\u001b[49m\n\u001b[1;32m    747\u001b[0m \u001b[38;5;28;01mexcept\u001b[39;00m \u001b[38;5;167;01mException\u001b[39;00m \u001b[38;5;28;01mas\u001b[39;00m e:\n\u001b[1;32m    748\u001b[0m     \u001b[38;5;28;01mif\u001b[39;00m \u001b[38;5;129;01mnot\u001b[39;00m \u001b[38;5;28mself\u001b[39m\u001b[38;5;241m.\u001b[39mhandle_parsing_errors:\n",
      "File \u001b[0;32m~/Library/Caches/pypoetry/virtualenvs/mbt-ai-A_DyYh-Q-py3.9/lib/python3.9/site-packages/langchain/agents/agent.py:426\u001b[0m, in \u001b[0;36mAgent.plan\u001b[0;34m(self, intermediate_steps, callbacks, **kwargs)\u001b[0m\n\u001b[1;32m    424\u001b[0m full_inputs \u001b[38;5;241m=\u001b[39m \u001b[38;5;28mself\u001b[39m\u001b[38;5;241m.\u001b[39mget_full_inputs(intermediate_steps, \u001b[38;5;241m*\u001b[39m\u001b[38;5;241m*\u001b[39mkwargs)\n\u001b[1;32m    425\u001b[0m full_output \u001b[38;5;241m=\u001b[39m \u001b[38;5;28mself\u001b[39m\u001b[38;5;241m.\u001b[39mllm_chain\u001b[38;5;241m.\u001b[39mpredict(callbacks\u001b[38;5;241m=\u001b[39mcallbacks, \u001b[38;5;241m*\u001b[39m\u001b[38;5;241m*\u001b[39mfull_inputs)\n\u001b[0;32m--> 426\u001b[0m \u001b[38;5;28;01mreturn\u001b[39;00m \u001b[38;5;28;43mself\u001b[39;49m\u001b[38;5;241;43m.\u001b[39;49m\u001b[43moutput_parser\u001b[49m\u001b[38;5;241;43m.\u001b[39;49m\u001b[43mparse\u001b[49m\u001b[43m(\u001b[49m\u001b[43mfull_output\u001b[49m\u001b[43m)\u001b[49m\n",
      "File \u001b[0;32m~/Library/Caches/pypoetry/virtualenvs/mbt-ai-A_DyYh-Q-py3.9/lib/python3.9/site-packages/langchain/agents/mrkl/output_parser.py:26\u001b[0m, in \u001b[0;36mMRKLOutputParser.parse\u001b[0;34m(self, text)\u001b[0m\n\u001b[1;32m     24\u001b[0m match \u001b[38;5;241m=\u001b[39m re\u001b[38;5;241m.\u001b[39msearch(regex, text, re\u001b[38;5;241m.\u001b[39mDOTALL)\n\u001b[1;32m     25\u001b[0m \u001b[38;5;28;01mif\u001b[39;00m \u001b[38;5;129;01mnot\u001b[39;00m match:\n\u001b[0;32m---> 26\u001b[0m     \u001b[38;5;28;01mraise\u001b[39;00m OutputParserException(\u001b[38;5;124mf\u001b[39m\u001b[38;5;124m\"\u001b[39m\u001b[38;5;124mCould not parse LLM output: `\u001b[39m\u001b[38;5;132;01m{\u001b[39;00mtext\u001b[38;5;132;01m}\u001b[39;00m\u001b[38;5;124m`\u001b[39m\u001b[38;5;124m\"\u001b[39m)\n\u001b[1;32m     27\u001b[0m action \u001b[38;5;241m=\u001b[39m match\u001b[38;5;241m.\u001b[39mgroup(\u001b[38;5;241m1\u001b[39m)\u001b[38;5;241m.\u001b[39mstrip()\n\u001b[1;32m     28\u001b[0m action_input \u001b[38;5;241m=\u001b[39m match\u001b[38;5;241m.\u001b[39mgroup(\u001b[38;5;241m2\u001b[39m)\n",
      "\u001b[0;31mOutputParserException\u001b[0m: Could not parse LLM output: `There are columns related to travel time, dwell time, and station information.`"
     ]
    }
   ],
   "source": [
    "agent.run(\"What do you know about the dataset going by the column names?\")"
   ]
  },
  {
   "cell_type": "code",
   "execution_count": null,
   "id": "154c5b0f-1e1d-48f2-862f-32293032078c",
   "metadata": {},
   "outputs": [],
   "source": []
  }
 ],
 "metadata": {
  "kernelspec": {
   "display_name": "Python 3 (ipykernel)",
   "language": "python",
   "name": "python3"
  },
  "language_info": {
   "codemirror_mode": {
    "name": "ipython",
    "version": 3
   },
   "file_extension": ".py",
   "mimetype": "text/x-python",
   "name": "python",
   "nbconvert_exporter": "python",
   "pygments_lexer": "ipython3",
   "version": "3.9.0"
  }
 },
 "nbformat": 4,
 "nbformat_minor": 5
}
