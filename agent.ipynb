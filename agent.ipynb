{
 "cells": [
  {
   "cell_type": "code",
   "execution_count": null,
   "id": "e443d625-8703-4853-94bf-734cc3c32da5",
   "metadata": {
    "tags": []
   },
   "outputs": [],
   "source": [
    "!pip -q install langchain openai pandas"
   ]
  },
  {
   "cell_type": "code",
   "execution_count": null,
   "id": "0acd3478-e159-4f93-a4d0-07f384697af6",
   "metadata": {
    "tags": []
   },
   "outputs": [],
   "source": [
    "import os\n",
    "import pandas as pd"
   ]
  },
  {
   "cell_type": "code",
   "execution_count": null,
   "id": "3ea67f39-49d1-458c-928d-88dd4aa6cfe1",
   "metadata": {},
   "outputs": [],
   "source": [
    "!poetry run python data.py"
   ]
  },
  {
   "cell_type": "code",
   "execution_count": null,
   "id": "cc874d27-c6fd-4f7b-a3de-0b65b8b76bc8",
   "metadata": {
    "tags": []
   },
   "outputs": [],
   "source": [
    "df = pd.read_csv('./data/all_stop_pairs_data.csv')\n",
    "df.head()"
   ]
  },
  {
   "cell_type": "code",
   "execution_count": null,
   "id": "14032c55-2033-4801-8fe3-b6f07f3a8e47",
   "metadata": {
    "tags": []
   },
   "outputs": [],
   "source": [
    "df.columns"
   ]
  },
  {
   "cell_type": "code",
   "execution_count": null,
   "id": "0c3a5b28-5028-4203-a7ab-f1cf4df9554e",
   "metadata": {
    "tags": []
   },
   "outputs": [],
   "source": [
    "df.shape"
   ]
  },
  {
   "attachments": {},
   "cell_type": "markdown",
   "id": "869f9798-ed28-4112-bf9b-05b802b31b73",
   "metadata": {},
   "source": [
    "## Activate Agent"
   ]
  },
  {
   "cell_type": "code",
   "execution_count": null,
   "id": "a976b4b5-12a9-451c-9570-cd8d056b0793",
   "metadata": {},
   "outputs": [],
   "source": [
    "from langchain.agents import create_csv_agent\n",
    "from langchain.chat_models import ChatOpenAI"
   ]
  },
  {
   "cell_type": "code",
   "execution_count": null,
   "id": "9dfac0b7-1861-4f5c-a716-51da694d81ed",
   "metadata": {},
   "outputs": [],
   "source": [
    "agent = create_csv_agent(ChatOpenAI(temperature=0, model_name=\"gpt-3.5-turbo\"), \n",
    "                         './data/all_stop_pairs_data.csv', \n",
    "                         verbose=True)"
   ]
  },
  {
   "attachments": {},
   "cell_type": "markdown",
   "id": "4ec4d993-26fd-45a1-8751-e10818b7220a",
   "metadata": {},
   "source": [
    "# Launch the Agent"
   ]
  },
  {
   "cell_type": "code",
   "execution_count": null,
   "id": "4699248d-144e-495f-87a3-f908d45f0f2b",
   "metadata": {},
   "outputs": [],
   "source": [
    "agent"
   ]
  },
  {
   "cell_type": "code",
   "execution_count": null,
   "id": "808a61c1-855b-4bc8-8135-0dc00a01ab5b",
   "metadata": {},
   "outputs": [],
   "source": [
    "agent.agent.llm_chain.prompt.template"
   ]
  },
  {
   "attachments": {},
   "cell_type": "markdown",
   "id": "d2962ffa-b075-449d-9258-fca5c22fc570",
   "metadata": {},
   "source": [
    "## Ask Questions to the Agent"
   ]
  },
  {
   "cell_type": "code",
   "execution_count": null,
   "id": "0b324860-3a82-4caf-bc79-cd81bd9bbc87",
   "metadata": {
    "tags": []
   },
   "outputs": [],
   "source": [
    "agent.run(\"Find the average travel times between Alewife and Davis per week in 2023\")"
   ]
  },
  {
   "cell_type": "code",
   "execution_count": null,
   "id": "7b40cd03-87cd-447b-98dc-2ea9faef2b2c",
   "metadata": {
    "tags": []
   },
   "outputs": [],
   "source": [
    "agent.run(\"What do you know about the dataset going by the column names?\")"
   ]
  }
 ],
 "metadata": {
  "kernelspec": {
   "display_name": "Python 3 (ipykernel)",
   "language": "python",
   "name": "python3"
  },
  "language_info": {
   "codemirror_mode": {
    "name": "ipython",
    "version": 3
   },
   "file_extension": ".py",
   "mimetype": "text/x-python",
   "name": "python",
   "nbconvert_exporter": "python",
   "pygments_lexer": "ipython3",
   "version": "3.9.0"
  }
 },
 "nbformat": 4,
 "nbformat_minor": 5
}
